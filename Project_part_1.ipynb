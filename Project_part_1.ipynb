{
 "cells": [
  {
   "cell_type": "markdown",
   "id": "6e37d382",
   "metadata": {},
   "source": [
    "# Project - Part 1"
   ]
  },
  {
   "cell_type": "markdown",
   "id": "e04f5450",
   "metadata": {},
   "source": [
    "### Libraries import:"
   ]
  },
  {
   "cell_type": "code",
   "execution_count": 1,
   "id": "00698c92",
   "metadata": {},
   "outputs": [],
   "source": [
    "from bs4 import BeautifulSoup\n",
    "import requests\n",
    "import time\n",
    "import datetime\n",
    "import pandas as pd\n",
    "import json\n",
    "import re"
   ]
  },
  {
   "cell_type": "markdown",
   "id": "a4ec696e",
   "metadata": {},
   "source": [
    "#### This variables definitions will help us later"
   ]
  },
  {
   "cell_type": "code",
   "execution_count": 2,
   "id": "f5bdb49e",
   "metadata": {},
   "outputs": [
    {
     "name": "stdout",
     "output_type": "stream",
     "text": [
      "Which car model data would you like to get? אאודי\n"
     ]
    }
   ],
   "source": [
    "headers = {'User-Agent': 'Mozilla/5.0 (Windows NT 10.0; Win64; x64) AppleWebKit/537.36 (KHTML, like Gecko) Chrome/58.0.3029.110 Safari/537.3'}\n",
    "car_type = str(input(\"Which car model data would you like to get? \"))"
   ]
  },
  {
   "cell_type": "markdown",
   "id": "b178ad8b",
   "metadata": {},
   "source": [
    "### Function for getting all specific cars Id's from given soup:"
   ]
  },
  {
   "cell_type": "code",
   "execution_count": 3,
   "id": "07d3c26d",
   "metadata": {},
   "outputs": [],
   "source": [
    "def get_model_links(soup):\n",
    "    desired_links = []\n",
    "    for car in soup('div',class_=\"card-body p-md-3\"):\n",
    "        s_link = car.find('a').get('href')\n",
    "        desired_links.append(s_link)\n",
    "    return desired_links [:-3]"
   ]
  },
  {
   "cell_type": "markdown",
   "id": "16943165",
   "metadata": {},
   "source": [
    "### A loop that gets relevant urls (using `get_model_links` function) and insert them into one list:\n",
    "When `ads` will contain empty list - there are no more pages - the loop will break."
   ]
  },
  {
   "cell_type": "code",
   "execution_count": 4,
   "id": "2a97b4d5",
   "metadata": {},
   "outputs": [],
   "source": [
    "main_audi_url = 'https://www.ad.co.il/car?sp261=13906&pageindex=' # Pages of all Audis\n",
    "page = 1\n",
    "audis_links = []\n",
    "while True:  # Runnning along pages\n",
    "    idx_url = main_audi_url + str(page)\n",
    "    html = requests.get(idx_url)\n",
    "    content = html.content\n",
    "    soup = BeautifulSoup(content, 'html.parser')\n",
    "    ads = get_model_links(soup) # Using previous function\n",
    "    if len(ads) != 0:\n",
    "        audis_links.extend(ads) # Our previous function\n",
    "        page += 1 # Move to the next page\n",
    "    else:\n",
    "        break"
   ]
  },
  {
   "cell_type": "code",
   "execution_count": 5,
   "id": "870f2f3c",
   "metadata": {},
   "outputs": [
    {
     "name": "stdout",
     "output_type": "stream",
     "text": [
      "Amount of requested cars:  118 \n",
      "\n"
     ]
    }
   ],
   "source": [
    "print(\"Amount of requested cars: \", len(audis_links), \"\\n\")"
   ]
  },
  {
   "cell_type": "markdown",
   "id": "dc22815f",
   "metadata": {},
   "source": [
    "### Running along Audis ads and scrap relevant information:\n",
    "The loop attaching the `main_url` to extracted urls from `audis_links` list.\n",
    "Inside the loop written fixed commands that scrap desired information about each car and save it in `car_att_dict` - attributes dictionaries that at the end combined to one big list `all_cars_info`."
   ]
  },
  {
   "cell_type": "code",
   "execution_count": 6,
   "id": "46761a6f",
   "metadata": {},
   "outputs": [],
   "source": [
    "all_cars_info = []\n",
    "main_url = \"https://www.ad.co.il\"\n",
    "for identifier in audis_links:\n",
    "    full_url = main_url + identifier\n",
    "    try:\n",
    "        html = requests.get(full_url, headers)\n",
    "        content = html.content\n",
    "        soup = BeautifulSoup(content, 'html.parser')\n",
    "        table = soup.find('div', class_ = \"col-xxl-4 col-lg-4 col-md-5\")\n",
    "        table2 = soup.find('div', class_ = \"col-xxl-8 col-lg-8 col-md-7\")\n",
    "\n",
    "        car_att_dict = {}\n",
    "        car_att_dict['Car_name'] = table.find('div',class_ = \"d-flex justify-content-between\")('h2')[0].get_text()\n",
    "\n",
    "        try:\n",
    "            car_att_dict['Price'] = table.find('div',class_ = \"d-flex justify-content-between\")('h2')[1].get_text()\n",
    "        except IndexError:\n",
    "            car_att_dict['Price'] = None\n",
    "\n",
    "        for a in table.find_all('tr'):  # Loop for extraction of relevant attributes and puttnig them in small dictionary for every car.\n",
    "            key = a.find_all('td')[0].get_text().strip()\n",
    "            value = a.find_all('td')[1].get_text().strip() \n",
    "            car_att_dict[key] = value\n",
    "\n",
    "        car_att_dict['Pic_num'] = len(table2('figure'))\n",
    "        \n",
    "        try:\n",
    "            car_att_dict['Description'] = table2.find('p').get_text().strip()\n",
    "        except AttributeError:\n",
    "            car_att_dict['Description'] = None\n",
    "            \n",
    "        car_att_dict['Cre_date'] = table2.find_all('div', 'px-3')[0].get_text()[-10:]\n",
    "        car_att_dict['Repub_date'] = table2.find_all('div', 'px-3')[1].get_text()[-10:]\n",
    "        \n",
    "        all_cars_info.append(car_att_dict)\n",
    "        \n",
    "    except:\n",
    "        print(\"Invalid URL, please check and try again\")\n",
    "    \n",
    "    "
   ]
  },
  {
   "cell_type": "markdown",
   "id": "1ac3d142",
   "metadata": {},
   "source": [
    "### Push our product into `pd.DataFrame`:"
   ]
  },
  {
   "cell_type": "code",
   "execution_count": 7,
   "id": "5f77cdd1",
   "metadata": {},
   "outputs": [],
   "source": [
    "data = pd.DataFrame(all_cars_info)"
   ]
  },
  {
   "cell_type": "markdown",
   "id": "c5c7b97e",
   "metadata": {},
   "source": [
    "### Rename columns:"
   ]
  },
  {
   "cell_type": "code",
   "execution_count": 8,
   "id": "7b764e10",
   "metadata": {},
   "outputs": [],
   "source": [
    "# Renaming:\n",
    "data.rename(columns = {'יד': 'Hand',\n",
    "                       'שנה': 'Year',\n",
    "                       'ת. הילוכים': 'Gear',\n",
    "                       'נפח': 'capacity_Engine',\n",
    "                       'סוג מנוע': 'Engine_type',\n",
    "                       'ק\"מ': 'Km',\n",
    "                       'צבע': 'Color',\n",
    "                       'בעלות קודמת': 'Prev_ownership',\n",
    "                       'בעלות נוכחית': 'Curr_ownership',\n",
    "                       'אזור': 'Area',\n",
    "                       'עיר': 'City',\n",
    "                       'טסט עד': 'Test'},\n",
    "              inplace=True)"
   ]
  },
  {
   "cell_type": "markdown",
   "id": "a408b0dd",
   "metadata": {},
   "source": [
    "### Cast and manipulate:"
   ]
  },
  {
   "cell_type": "code",
   "execution_count": 9,
   "id": "58b1fe91",
   "metadata": {},
   "outputs": [],
   "source": [
    "data['Cre_date'] = pd.to_datetime(data['Cre_date'], dayfirst = True)\n",
    "data['Repub_date'] = pd.to_datetime(data['Repub_date'], dayfirst = True)\n",
    "data['Gear'] = pd.Categorical(data['Gear'])\n",
    "data['Engine_type'] = pd.Categorical(data['Engine_type'])\n",
    "data['Prev_ownership'] = pd.Categorical(data['Prev_ownership'])\n",
    "data['Curr_ownership'] = pd.Categorical(data['Curr_ownership'])\n",
    "data['Year'] = data['Year'].astype('Int32')\n",
    "data['Hand'] = data['Hand'].astype('Int32')\n",
    "data['Pic_num'] = data['Pic_num'].astype('Int32')\n",
    "data['capacity_Engine'] = data['capacity_Engine'].str.replace(',', '').astype('Int32')\n",
    "data['Km'] = data['Km'].str.replace(',', '').astype('Int32')\n",
    "data['Price'] = data['Price'].str.replace(r'[^\\d]', '', regex = True).astype('float') # Extract only the digits using regular expressions"
   ]
  },
  {
   "cell_type": "markdown",
   "id": "57d86530",
   "metadata": {},
   "source": [
    "### `Test` column handling:\n",
    "Calculate the time difference between today and future test expire date."
   ]
  },
  {
   "cell_type": "code",
   "execution_count": 10,
   "id": "3b6602e0",
   "metadata": {},
   "outputs": [],
   "source": [
    "today = pd.to_datetime('today')\n",
    "data['Test'] = data['Test'].apply(lambda x: \"30/\" + x if pd.notna(x) else x) # Test time is at the end of the month\n",
    "data['Test'] = pd.to_datetime(data['Test'], dayfirst = True)\n",
    "data['Test'] = (data['Test'] - today).dt.days.astype('Int32')"
   ]
  },
  {
   "cell_type": "markdown",
   "id": "347c2fe8",
   "metadata": {},
   "source": [
    "### Renaming for identical column names - will be helpful for supply score manipulation\n"
   ]
  },
  {
   "cell_type": "code",
   "execution_count": 11,
   "id": "da4aad09",
   "metadata": {},
   "outputs": [],
   "source": [
    "data = data.rename(columns={'Car_type': 'Type'})"
   ]
  },
  {
   "cell_type": "markdown",
   "id": "affe0838",
   "metadata": {},
   "source": [
    "### Additional data cleaning:\n",
    "* Fake ads need to be be removed!"
   ]
  },
  {
   "cell_type": "code",
   "execution_count": 12,
   "id": "529e76f2",
   "metadata": {},
   "outputs": [
    {
     "data": {
      "text/plain": [
       "92     לעבודה מהבית דרושים דרושות, להקלדה, הזנת נתוני...\n",
       "101    דרושים דרושות לעבודה מהבית בקלדנות, כתיבה, הזנ...\n",
       "109                                         עבודה משרדית\n",
       "112    דרושים/ות לעבודה בהקלדת נתונים, מדובר על עבודה...\n",
       "113    דרושים/ות לעבודה מהבית, (גברים ונשים) בסוכנות ...\n",
       "114    דרושים/ות לעבודה מהבית, (גברים ונשים) בסוכנות ...\n",
       "115    דרושים/ות לעבודה מהבית, (גברים ונשים) בסוכנות ...\n",
       "116    דרושים דרושות לעבודה מהבית בקלדנות, כתיבה, הזנ...\n",
       "117    דרושים! לעבודה באקסל, מדובר על עבודה בהזנת תוכ...\n",
       "Name: Description, dtype: object"
      ]
     },
     "execution_count": 12,
     "metadata": {},
     "output_type": "execute_result"
    }
   ],
   "source": [
    "fakes = data[data['Description'].str.contains('דרושים|משרד', na=False)]\n",
    "fakes['Description']"
   ]
  },
  {
   "cell_type": "code",
   "execution_count": 13,
   "id": "c3bd727b",
   "metadata": {},
   "outputs": [],
   "source": [
    "# Everything except fakes\n",
    "data = data[~data['Description'].str.contains('דרושים|משרד', na=False)]"
   ]
  },
  {
   "cell_type": "markdown",
   "id": "72ce436f",
   "metadata": {},
   "source": [
    "---"
   ]
  },
  {
   "cell_type": "markdown",
   "id": "ea06109b",
   "metadata": {},
   "source": [
    "## Supply score integration:"
   ]
  },
  {
   "cell_type": "code",
   "execution_count": 14,
   "id": "0c48b7b3",
   "metadata": {},
   "outputs": [],
   "source": [
    "url = \"https://data.gov.il/api/3/action/datastore_search?resource_id=5e87a7a1-2f6f-41c1-8aec-7216d52a6cf6\"\n",
    "response = requests.get(url)\n",
    "try:\n",
    "    from_gov = json.loads(response.content)\n",
    "    from_gov = from_gov['result']['records']\n",
    "except:\n",
    "    print(\"Data in update progress, please try again later\")"
   ]
  },
  {
   "cell_type": "code",
   "execution_count": 15,
   "id": "61b44e15",
   "metadata": {},
   "outputs": [
    {
     "data": {
      "text/html": [
       "<div>\n",
       "<style scoped>\n",
       "    .dataframe tbody tr th:only-of-type {\n",
       "        vertical-align: middle;\n",
       "    }\n",
       "\n",
       "    .dataframe tbody tr th {\n",
       "        vertical-align: top;\n",
       "    }\n",
       "\n",
       "    .dataframe thead th {\n",
       "        text-align: right;\n",
       "    }\n",
       "</style>\n",
       "<table border=\"1\" class=\"dataframe\">\n",
       "  <thead>\n",
       "    <tr style=\"text-align: right;\">\n",
       "      <th></th>\n",
       "      <th>_id</th>\n",
       "      <th>sug_degem</th>\n",
       "      <th>tozeret_cd</th>\n",
       "      <th>tozeret_nm</th>\n",
       "      <th>tozeret_eretz_nm</th>\n",
       "      <th>tozar</th>\n",
       "      <th>degem_cd</th>\n",
       "      <th>degem_nm</th>\n",
       "      <th>shnat_yitzur</th>\n",
       "      <th>mispar_rechavim_pailim</th>\n",
       "      <th>mispar_rechavim_le_pailim</th>\n",
       "      <th>kinuy_mishari</th>\n",
       "    </tr>\n",
       "  </thead>\n",
       "  <tbody>\n",
       "    <tr>\n",
       "      <th>23470</th>\n",
       "      <td>23471</td>\n",
       "      <td>P</td>\n",
       "      <td>650</td>\n",
       "      <td>סובארו יפן</td>\n",
       "      <td>יפן</td>\n",
       "      <td>סובארו</td>\n",
       "      <td>400</td>\n",
       "      <td>GDACL8D</td>\n",
       "      <td>2003</td>\n",
       "      <td>7</td>\n",
       "      <td>11</td>\n",
       "      <td>IMPREZA TUR NEW</td>\n",
       "    </tr>\n",
       "    <tr>\n",
       "      <th>5727</th>\n",
       "      <td>5728</td>\n",
       "      <td>P</td>\n",
       "      <td>413</td>\n",
       "      <td>טויוטה יפן</td>\n",
       "      <td>יפן</td>\n",
       "      <td>טויוטה</td>\n",
       "      <td>1001</td>\n",
       "      <td>ZVW30L-AHXEBW</td>\n",
       "      <td>2009</td>\n",
       "      <td>640</td>\n",
       "      <td>90</td>\n",
       "      <td>PRIUS HYBRID</td>\n",
       "    </tr>\n",
       "    <tr>\n",
       "      <th>12536</th>\n",
       "      <td>12537</td>\n",
       "      <td>P</td>\n",
       "      <td>430</td>\n",
       "      <td>טויוטה אנגליה</td>\n",
       "      <td>בריטניה</td>\n",
       "      <td>טויוטה</td>\n",
       "      <td>47</td>\n",
       "      <td>ZWE186L-DHXNBW</td>\n",
       "      <td>2018</td>\n",
       "      <td>5</td>\n",
       "      <td>1</td>\n",
       "      <td>AURIS HYBRID</td>\n",
       "    </tr>\n",
       "    <tr>\n",
       "      <th>14532</th>\n",
       "      <td>14533</td>\n",
       "      <td>P</td>\n",
       "      <td>590</td>\n",
       "      <td>מיצובישי יפן</td>\n",
       "      <td>יפן</td>\n",
       "      <td>מיצובישי</td>\n",
       "      <td>130</td>\n",
       "      <td>N43WLNUEL6</td>\n",
       "      <td>1998</td>\n",
       "      <td>0</td>\n",
       "      <td>5</td>\n",
       "      <td>SPACE WAGON</td>\n",
       "    </tr>\n",
       "    <tr>\n",
       "      <th>342</th>\n",
       "      <td>343</td>\n",
       "      <td>P</td>\n",
       "      <td>155</td>\n",
       "      <td>הונדה טורקיה</td>\n",
       "      <td>טורקיה</td>\n",
       "      <td>הונדה</td>\n",
       "      <td>81</td>\n",
       "      <td>FD76</td>\n",
       "      <td>2008</td>\n",
       "      <td>3447</td>\n",
       "      <td>1302</td>\n",
       "      <td>CIVIC</td>\n",
       "    </tr>\n",
       "  </tbody>\n",
       "</table>\n",
       "</div>"
      ],
      "text/plain": [
       "         _id sug_degem  tozeret_cd     tozeret_nm tozeret_eretz_nm     tozar  \\\n",
       "23470  23471         P         650     סובארו יפן              יפן    סובארו   \n",
       "5727    5728         P         413     טויוטה יפן              יפן    טויוטה   \n",
       "12536  12537         P         430  טויוטה אנגליה          בריטניה    טויוטה   \n",
       "14532  14533         P         590   מיצובישי יפן              יפן  מיצובישי   \n",
       "342      343         P         155   הונדה טורקיה           טורקיה     הונדה   \n",
       "\n",
       "       degem_cd        degem_nm  shnat_yitzur  mispar_rechavim_pailim  \\\n",
       "23470       400         GDACL8D          2003                       7   \n",
       "5727       1001   ZVW30L-AHXEBW          2009                     640   \n",
       "12536        47  ZWE186L-DHXNBW          2018                       5   \n",
       "14532       130      N43WLNUEL6          1998                       0   \n",
       "342          81            FD76          2008                    3447   \n",
       "\n",
       "       mispar_rechavim_le_pailim    kinuy_mishari  \n",
       "23470                         11  IMPREZA TUR NEW  \n",
       "5727                          90     PRIUS HYBRID  \n",
       "12536                          1     AURIS HYBRID  \n",
       "14532                          5      SPACE WAGON  \n",
       "342                         1302            CIVIC  "
      ]
     },
     "execution_count": 15,
     "metadata": {},
     "output_type": "execute_result"
    }
   ],
   "source": [
    "pd.DataFrame(from_gov).sample(5)"
   ]
  },
  {
   "cell_type": "markdown",
   "id": "e157fe9a",
   "metadata": {},
   "source": [
    "### Create a Dataframe from the API data for more convinient manipulation:"
   ]
  },
  {
   "cell_type": "code",
   "execution_count": 16,
   "id": "1486e822",
   "metadata": {},
   "outputs": [
    {
     "data": {
      "text/html": [
       "<div>\n",
       "<style scoped>\n",
       "    .dataframe tbody tr th:only-of-type {\n",
       "        vertical-align: middle;\n",
       "    }\n",
       "\n",
       "    .dataframe tbody tr th {\n",
       "        vertical-align: top;\n",
       "    }\n",
       "\n",
       "    .dataframe thead th {\n",
       "        text-align: right;\n",
       "    }\n",
       "</style>\n",
       "<table border=\"1\" class=\"dataframe\">\n",
       "  <thead>\n",
       "    <tr style=\"text-align: right;\">\n",
       "      <th></th>\n",
       "      <th>Type</th>\n",
       "      <th>Year</th>\n",
       "      <th>Supply_score</th>\n",
       "    </tr>\n",
       "  </thead>\n",
       "  <tbody>\n",
       "    <tr>\n",
       "      <th>0</th>\n",
       "      <td>A3 SEDAN</td>\n",
       "      <td>2019</td>\n",
       "      <td>30</td>\n",
       "    </tr>\n",
       "    <tr>\n",
       "      <th>1</th>\n",
       "      <td>A6</td>\n",
       "      <td>2006</td>\n",
       "      <td>13</td>\n",
       "    </tr>\n",
       "    <tr>\n",
       "      <th>2</th>\n",
       "      <td>A4</td>\n",
       "      <td>2003</td>\n",
       "      <td>3</td>\n",
       "    </tr>\n",
       "    <tr>\n",
       "      <th>3</th>\n",
       "      <td>A6</td>\n",
       "      <td>2004</td>\n",
       "      <td>6</td>\n",
       "    </tr>\n",
       "    <tr>\n",
       "      <th>4</th>\n",
       "      <td>TT</td>\n",
       "      <td>2001</td>\n",
       "      <td>3</td>\n",
       "    </tr>\n",
       "    <tr>\n",
       "      <th>...</th>\n",
       "      <td>...</td>\n",
       "      <td>...</td>\n",
       "      <td>...</td>\n",
       "    </tr>\n",
       "    <tr>\n",
       "      <th>1607</th>\n",
       "      <td>AUDI A3</td>\n",
       "      <td>2010</td>\n",
       "      <td>14</td>\n",
       "    </tr>\n",
       "    <tr>\n",
       "      <th>1608</th>\n",
       "      <td>A7</td>\n",
       "      <td>2014</td>\n",
       "      <td>13</td>\n",
       "    </tr>\n",
       "    <tr>\n",
       "      <th>1609</th>\n",
       "      <td>A6</td>\n",
       "      <td>2006</td>\n",
       "      <td>4</td>\n",
       "    </tr>\n",
       "    <tr>\n",
       "      <th>1610</th>\n",
       "      <td>ALLROAD</td>\n",
       "      <td>2001</td>\n",
       "      <td>4</td>\n",
       "    </tr>\n",
       "    <tr>\n",
       "      <th>1611</th>\n",
       "      <td>A8</td>\n",
       "      <td>2009</td>\n",
       "      <td>5</td>\n",
       "    </tr>\n",
       "  </tbody>\n",
       "</table>\n",
       "<p>1612 rows × 3 columns</p>\n",
       "</div>"
      ],
      "text/plain": [
       "          Type  Year  Supply_score\n",
       "0     A3 SEDAN  2019            30\n",
       "1           A6  2006            13\n",
       "2           A4  2003             3\n",
       "3           A6  2004             6\n",
       "4           TT  2001             3\n",
       "...        ...   ...           ...\n",
       "1607   AUDI A3  2010            14\n",
       "1608        A7  2014            13\n",
       "1609        A6  2006             4\n",
       "1610   ALLROAD  2001             4\n",
       "1611        A8  2009             5\n",
       "\n",
       "[1612 rows x 3 columns]"
      ]
     },
     "execution_count": 16,
     "metadata": {},
     "output_type": "execute_result"
    }
   ],
   "source": [
    "temp_list = []\n",
    "for item in from_gov:\n",
    "    if item ['tozar'] == car_type: # filter all required car manufactor\n",
    "        temp_dict = {}\n",
    "        temp_dict['Type'] = item['kinuy_mishari']\n",
    "        temp_dict['Year'] = item['shnat_yitzur']\n",
    "        temp_dict['Supply_score'] = item['mispar_rechavim_pailim']       \n",
    "        temp_list.append(temp_dict)\n",
    "data2 = pd.DataFrame(temp_list)\n",
    "data2"
   ]
  },
  {
   "cell_type": "markdown",
   "id": "1ce12158",
   "metadata": {},
   "source": [
    "### Display the discrepancy between names:\n",
    "We can notice the two sources' names are not similar "
   ]
  },
  {
   "cell_type": "code",
   "execution_count": 17,
   "id": "64eed343",
   "metadata": {},
   "outputs": [
    {
     "name": "stdout",
     "output_type": "stream",
     "text": [
      "Our models: \n",
      " ['אאודי A5' 'אאודי A1' 'אאודי RS5' 'אאודי A6' 'אאודי A3' 'אאודי 100'\n",
      " 'אאודי TT' 'אאודי A4' 'אאודי Q3' 'אאודי RS3' 'אאודי A7' 'אאודי S3'\n",
      " 'אאודי S5' 'אאודי TT קופה' 'אאודי R8' 'אאודי 80' 'אאודי S8' 'אאודי S7'] \n",
      "\n",
      "External models:\n",
      "  ['A3 SEDAN' 'A6' 'A4' 'TT' 'Q7' 'A8' 'Q5' 'AUDI TT' 'AUDI Q7' 'A1'\n",
      " 'RSQ3 SPORTBACK' 'A5' 'RS5' 'AUDI S3' \"אודי 6-Aפרטי רג' 4דל\" 'Q3' 'A3'\n",
      " 'אוטומטי' 'A3 DESIGN' 'A1 SPORTBACK' 'RSQ3 PERFORMANC' 'A3 SPORTBACK'\n",
      " 'A6 2.8Q' 'S5 SPORTBACK' 'SPORTBACK A3' 'A7' 'TT ROADSTER'\n",
      " 'RS3 SPORTBACK' 'S3' 'Q5 DESIGN' 'A5 COUPE' 'Q2' 'RS3' 'A1 SPORTBCK' 'Q8'\n",
      " 'SQ5 SPORTBACK' 'S8' 'Q3 SPORTBACK' 'S3 SPORTBACK' 'AUDI A4' 'TT COUPE'\n",
      " 'S5' 'SQ7' 'RSQ3' 'AUDI A5' 'A3 CABRIOLET' \"אודי 8A 7.3 אוט'WEA\"\n",
      " 'RS3 SEDAN' 'S1' \"אודי 8A V6 4דלת' 8.2\" 'ALLROAD' '5 הילוכים'\n",
      " 'A5 SPORTBACK' 'אודי 3A 8.1 אוטומטי' 'ETRON SPORTBACK'\n",
      " \"אודי 4A 4דלת' T8.1\" 'Q5 SPORTBACK' 'S4' 'RODSTR TT' 'אוטומטי 4 הילוכים'\n",
      " 'Q7 E-TRON' 'Q5 TDI' 'S6' 'A7 SPORTBACK' 'Q7 50TDI' 'A3 SB E-TRON'\n",
      " 'RS5 COUPE' 'S3 SEDAN' 'אודי 4A 8.2 קואטרו K' 'Q4 SBACK35 ETRO' 'Q3 RS'\n",
      " 'SQ5' \"אודי 3=A 8.1 3דלת'UG\" 'ETRON' 'Q3 SBACK ETRON' 'SPORTBACK'\n",
      " 'AUDI S5' '8D2OY8' 'אודי 3A T 8.1 5הילוכ' 'AUDI A3' 'QUATTRO 4B' 'RS6'\n",
      " \"אודי 8-Aקוואטרו אוט'\" \"4AIDT דיזל 011 אוטו'\" \"אודי4-A 4דלת'_6.1\"\n",
      " 'A4 TURBO' 'A8 LONG' 'Q2 DESIGN' 'AUDI S8' 'S3 CABRIO'\n",
      " \"אודי IDT 9.1 אוט' 4A\" 'A8L' \"אודי 3-A 3דל'HEA\" 'SQ5 TFSI QUATTR'\n",
      " 'AUDI A6' '4A20Y8' 'אודי 4A טורבו 4 דלתו' \"אודי3A 5הילו' 3דלת'8\"\n",
      " '4A IDTדיזל 011 רגיל' 'אודי 4A8.1 טורבו אוט' \"אודי-6Aפרטי רג' 4דל'\"\n",
      " 'AUDI R8' \"אודי 4A 8.1 4הילו' 4\" 'Q3 SBECK ETRON' \"אודי 4A 4דלת'_6.1\"\n",
      " \"אודי 3A 3דלת' 6.1\" 'A5 CABRIO' \"אודי 4A 4דלת' IDT9.1\" 'A7 TFSI-E'\n",
      " 'אודי 3A 8.1 5הילוכי' 'Q3 SB 45E' 'אודי 4A 9.1 אוונט ID'\n",
      " \"אודי 3A 3דלת' T8.1\" 'Q4 35 ETRON' 'אודי 4A 8.1 אוונט BE'\n",
      " '5 הילוכים-טורבו' 'Q3 SPORTBACK E-' \"אודי 4A 4דלת' IDT 9.\" 'E TRON' 'TTS'\n",
      " 'RS7' 'S7' 'E-TRON GT' 'E TRON 50' 'אודי 4AטפרוניקV6 4.2'\n",
      " 'אודי 4.A 4דלתות_8.1' 'TTRS COUPE']\n"
     ]
    }
   ],
   "source": [
    "types = data.Car_name.unique()\n",
    "types2 = data2.Type.unique()\n",
    "\n",
    "print('Our models: \\n',types, '\\n')\n",
    "print('External models:\\n ', types2)"
   ]
  },
  {
   "cell_type": "markdown",
   "id": "f5299889",
   "metadata": {},
   "source": [
    "### Function for increasing the similarity between the datasets using regular expressions:\n"
   ]
  },
  {
   "cell_type": "code",
   "execution_count": 18,
   "id": "8f02d6bd",
   "metadata": {
    "scrolled": true
   },
   "outputs": [],
   "source": [
    "def extract_simple_models(models):\n",
    "    simple_models = []\n",
    "    for model in models:\n",
    "        match = re.match(r'([A-Za-z]+\\d*)', model)\n",
    "        if match:\n",
    "            simple_models.append(match.group())\n",
    "        else:\n",
    "            simple_models.append(None)\n",
    "    return simple_models"
   ]
  },
  {
   "cell_type": "markdown",
   "id": "7ae283a0",
   "metadata": {},
   "source": [
    "### Extracting unique simple car models using `extract_simple_models` function\n",
    " and changing the car model names to more simple names"
   ]
  },
  {
   "cell_type": "code",
   "execution_count": 19,
   "id": "c2f19afb",
   "metadata": {},
   "outputs": [],
   "source": [
    "unique_simple_models = extract_simple_models(data2.Type)\n",
    "data2['Type'] = unique_simple_models"
   ]
  },
  {
   "cell_type": "markdown",
   "id": "cef20177",
   "metadata": {},
   "source": [
    "### Fixing specific minor inconsistencies:"
   ]
  },
  {
   "cell_type": "code",
   "execution_count": 20,
   "id": "a97aee99",
   "metadata": {},
   "outputs": [],
   "source": [
    "data['Type'] = data['Car_name'].str.replace(car_type+\" \", '')\n",
    "data['Type'] = data['Type'].str.replace(\" קופה\", \"\")\n",
    "data['Type'] = data['Type'].str.replace(\"All Road\", \"ALLROAD\")\n",
    "data['Type'] = data['Type'].str.replace(\" \", \"\")"
   ]
  },
  {
   "cell_type": "markdown",
   "id": "1373602e",
   "metadata": {},
   "source": [
    "### Repeated comparison:"
   ]
  },
  {
   "cell_type": "code",
   "execution_count": 21,
   "id": "326a7b7e",
   "metadata": {},
   "outputs": [
    {
     "name": "stdout",
     "output_type": "stream",
     "text": [
      "Our models: \n",
      " ['A5' 'A1' 'RS5' 'A6' 'A3' '100' 'TT' 'A4' 'Q3' 'RS3' 'A7' 'S3' 'S5' 'R8'\n",
      " '80' 'S8' 'S7'] \n",
      "\n",
      "External models:\n",
      "  ['A3' 'A6' 'A4' 'TT' 'Q7' 'A8' 'Q5' 'AUDI' 'A1' 'RSQ3' 'A5' 'RS5' None\n",
      " 'Q3' 'S5' 'SPORTBACK' 'A7' 'RS3' 'S3' 'Q2' 'Q8' 'SQ5' 'S8' 'SQ7' 'S1'\n",
      " 'ALLROAD' 'ETRON' 'S4' 'RODSTR' 'S6' 'Q4' 'QUATTRO' 'RS6' 'E' 'TTS' 'RS7'\n",
      " 'S7' 'TTRS']\n"
     ]
    }
   ],
   "source": [
    "types = data.Type.unique()\n",
    "types2 = data2.Type.unique()\n",
    "\n",
    "print('Our models: \\n',types, '\\n')\n",
    "print('External models:\\n ', types2)"
   ]
  },
  {
   "cell_type": "markdown",
   "id": "ffc103a8",
   "metadata": {},
   "source": [
    "### Representing supply score for each car model by years:"
   ]
  },
  {
   "cell_type": "code",
   "execution_count": 22,
   "id": "271dee22",
   "metadata": {},
   "outputs": [
    {
     "data": {
      "text/html": [
       "<div>\n",
       "<style scoped>\n",
       "    .dataframe tbody tr th:only-of-type {\n",
       "        vertical-align: middle;\n",
       "    }\n",
       "\n",
       "    .dataframe tbody tr th {\n",
       "        vertical-align: top;\n",
       "    }\n",
       "\n",
       "    .dataframe thead th {\n",
       "        text-align: right;\n",
       "    }\n",
       "</style>\n",
       "<table border=\"1\" class=\"dataframe\">\n",
       "  <thead>\n",
       "    <tr style=\"text-align: right;\">\n",
       "      <th></th>\n",
       "      <th>Type</th>\n",
       "      <th>Year</th>\n",
       "      <th>Supply_score</th>\n",
       "    </tr>\n",
       "  </thead>\n",
       "  <tbody>\n",
       "    <tr>\n",
       "      <th>0</th>\n",
       "      <td>A1</td>\n",
       "      <td>2010</td>\n",
       "      <td>31</td>\n",
       "    </tr>\n",
       "    <tr>\n",
       "      <th>1</th>\n",
       "      <td>A1</td>\n",
       "      <td>2011</td>\n",
       "      <td>283</td>\n",
       "    </tr>\n",
       "    <tr>\n",
       "      <th>2</th>\n",
       "      <td>A1</td>\n",
       "      <td>2012</td>\n",
       "      <td>312</td>\n",
       "    </tr>\n",
       "    <tr>\n",
       "      <th>3</th>\n",
       "      <td>A1</td>\n",
       "      <td>2013</td>\n",
       "      <td>268</td>\n",
       "    </tr>\n",
       "    <tr>\n",
       "      <th>4</th>\n",
       "      <td>A1</td>\n",
       "      <td>2014</td>\n",
       "      <td>204</td>\n",
       "    </tr>\n",
       "    <tr>\n",
       "      <th>...</th>\n",
       "      <td>...</td>\n",
       "      <td>...</td>\n",
       "      <td>...</td>\n",
       "    </tr>\n",
       "    <tr>\n",
       "      <th>301</th>\n",
       "      <td>TT</td>\n",
       "      <td>2020</td>\n",
       "      <td>55</td>\n",
       "    </tr>\n",
       "    <tr>\n",
       "      <th>302</th>\n",
       "      <td>TT</td>\n",
       "      <td>2021</td>\n",
       "      <td>62</td>\n",
       "    </tr>\n",
       "    <tr>\n",
       "      <th>303</th>\n",
       "      <td>TT</td>\n",
       "      <td>2022</td>\n",
       "      <td>4</td>\n",
       "    </tr>\n",
       "    <tr>\n",
       "      <th>304</th>\n",
       "      <td>TTRS</td>\n",
       "      <td>2022</td>\n",
       "      <td>0</td>\n",
       "    </tr>\n",
       "    <tr>\n",
       "      <th>305</th>\n",
       "      <td>TTS</td>\n",
       "      <td>2016</td>\n",
       "      <td>3</td>\n",
       "    </tr>\n",
       "  </tbody>\n",
       "</table>\n",
       "<p>306 rows × 3 columns</p>\n",
       "</div>"
      ],
      "text/plain": [
       "     Type  Year  Supply_score\n",
       "0      A1  2010            31\n",
       "1      A1  2011           283\n",
       "2      A1  2012           312\n",
       "3      A1  2013           268\n",
       "4      A1  2014           204\n",
       "..    ...   ...           ...\n",
       "301    TT  2020            55\n",
       "302    TT  2021            62\n",
       "303    TT  2022             4\n",
       "304  TTRS  2022             0\n",
       "305   TTS  2016             3\n",
       "\n",
       "[306 rows x 3 columns]"
      ]
     },
     "execution_count": 22,
     "metadata": {},
     "output_type": "execute_result"
    }
   ],
   "source": [
    "grouped = data2.groupby(['Type','Year']).sum().reset_index()\n",
    "grouped"
   ]
  },
  {
   "cell_type": "markdown",
   "id": "0d2f7f5d",
   "metadata": {},
   "source": [
    "### Final data preparation:"
   ]
  },
  {
   "cell_type": "code",
   "execution_count": 23,
   "id": "6cb11ef1",
   "metadata": {},
   "outputs": [],
   "source": [
    "# merging with the grouped data for getting the supply score per model per year\n",
    "new_data = pd.merge(data, grouped, on=['Type', 'Year'], how='left')\n",
    "new_data['Supply_score'] = new_data['Supply_score'].astype('Int32')"
   ]
  },
  {
   "cell_type": "code",
   "execution_count": 24,
   "id": "65cde92d",
   "metadata": {},
   "outputs": [],
   "source": [
    "new_data['model'] = new_data['Type']\n",
    "new_data['manufactor'] = new_data['Car_name']  \n",
    "new_data['manufactor'] = new_data['manufactor'].apply(lambda x: car_type)\n",
    "new_data.drop(['Type','Car_name'], inplace = True ,axis=1)"
   ]
  },
  {
   "cell_type": "code",
   "execution_count": 25,
   "id": "1dac7ee1",
   "metadata": {},
   "outputs": [],
   "source": [
    "# Columns sorting\n",
    "columns_order = ['manufactor', 'Year', 'model', 'Hand', 'Gear',  'capacity_Engine', 'Engine_type', 'Prev_ownership', 'Curr_ownership', 'Area', 'City', 'Price', 'Pic_num', 'Cre_date', 'Repub_date', 'Description', 'Color', 'Km', 'Test', 'Supply_score']\n",
    "new_data = new_data[columns_order]"
   ]
  },
  {
   "cell_type": "markdown",
   "id": "4627a612",
   "metadata": {},
   "source": [
    "### Final data:"
   ]
  },
  {
   "cell_type": "code",
   "execution_count": 26,
   "id": "d3d4cf83",
   "metadata": {},
   "outputs": [
    {
     "data": {
      "text/html": [
       "<div>\n",
       "<style scoped>\n",
       "    .dataframe tbody tr th:only-of-type {\n",
       "        vertical-align: middle;\n",
       "    }\n",
       "\n",
       "    .dataframe tbody tr th {\n",
       "        vertical-align: top;\n",
       "    }\n",
       "\n",
       "    .dataframe thead th {\n",
       "        text-align: right;\n",
       "    }\n",
       "</style>\n",
       "<table border=\"1\" class=\"dataframe\">\n",
       "  <thead>\n",
       "    <tr style=\"text-align: right;\">\n",
       "      <th></th>\n",
       "      <th>manufactor</th>\n",
       "      <th>Year</th>\n",
       "      <th>model</th>\n",
       "      <th>Hand</th>\n",
       "      <th>Gear</th>\n",
       "      <th>capacity_Engine</th>\n",
       "      <th>Engine_type</th>\n",
       "      <th>Prev_ownership</th>\n",
       "      <th>Curr_ownership</th>\n",
       "      <th>Area</th>\n",
       "      <th>City</th>\n",
       "      <th>Price</th>\n",
       "      <th>Pic_num</th>\n",
       "      <th>Cre_date</th>\n",
       "      <th>Repub_date</th>\n",
       "      <th>Description</th>\n",
       "      <th>Color</th>\n",
       "      <th>Km</th>\n",
       "      <th>Test</th>\n",
       "      <th>Supply_score</th>\n",
       "    </tr>\n",
       "  </thead>\n",
       "  <tbody>\n",
       "    <tr>\n",
       "      <th>0</th>\n",
       "      <td>אאודי</td>\n",
       "      <td>2013</td>\n",
       "      <td>A5</td>\n",
       "      <td>3</td>\n",
       "      <td>אוטומטית</td>\n",
       "      <td>1800</td>\n",
       "      <td>בנזין</td>\n",
       "      <td>פרטית</td>\n",
       "      <td>פרטית</td>\n",
       "      <td>ירושלים והסביבה</td>\n",
       "      <td>ירושלים</td>\n",
       "      <td>68000.0</td>\n",
       "      <td>5</td>\n",
       "      <td>2024-03-17</td>\n",
       "      <td>2024-03-31</td>\n",
       "      <td>‎!!קילומטר נמוך !! רכב במצב תצוגה טיפול גדול ח...</td>\n",
       "      <td>שחור</td>\n",
       "      <td>119000</td>\n",
       "      <td>&lt;NA&gt;</td>\n",
       "      <td>29</td>\n",
       "    </tr>\n",
       "    <tr>\n",
       "      <th>1</th>\n",
       "      <td>אאודי</td>\n",
       "      <td>2016</td>\n",
       "      <td>A1</td>\n",
       "      <td>2</td>\n",
       "      <td>אוטומטית</td>\n",
       "      <td>1000</td>\n",
       "      <td>בנזין</td>\n",
       "      <td>ליסינג</td>\n",
       "      <td>פרטית</td>\n",
       "      <td>NaN</td>\n",
       "      <td>בית ג'ן</td>\n",
       "      <td>55000.0</td>\n",
       "      <td>3</td>\n",
       "      <td>2023-11-25</td>\n",
       "      <td>2023-11-24</td>\n",
       "      <td>רכב שמור מטופל בזמן יש עליו כל מיני תוספות מי ...</td>\n",
       "      <td>שחור</td>\n",
       "      <td>135000</td>\n",
       "      <td>&lt;NA&gt;</td>\n",
       "      <td>344</td>\n",
       "    </tr>\n",
       "    <tr>\n",
       "      <th>2</th>\n",
       "      <td>אאודי</td>\n",
       "      <td>2021</td>\n",
       "      <td>A1</td>\n",
       "      <td>1</td>\n",
       "      <td>אוטומטית</td>\n",
       "      <td>1000</td>\n",
       "      <td>בנזין</td>\n",
       "      <td>פרטית</td>\n",
       "      <td>פרטית</td>\n",
       "      <td>ירושלים והסביבה</td>\n",
       "      <td>ירושלים</td>\n",
       "      <td>122000.0</td>\n",
       "      <td>9</td>\n",
       "      <td>2023-11-11</td>\n",
       "      <td>2023-11-11</td>\n",
       "      <td>רכב אאודי A1 דגם סטייל קומפורט \\nאחרי טיפול של...</td>\n",
       "      <td>שחור</td>\n",
       "      <td>&lt;NA&gt;</td>\n",
       "      <td>&lt;NA&gt;</td>\n",
       "      <td>254</td>\n",
       "    </tr>\n",
       "    <tr>\n",
       "      <th>3</th>\n",
       "      <td>אאודי</td>\n",
       "      <td>2019</td>\n",
       "      <td>RS5</td>\n",
       "      <td>4</td>\n",
       "      <td>אוטומטית</td>\n",
       "      <td>4500</td>\n",
       "      <td>גז</td>\n",
       "      <td>פרטית</td>\n",
       "      <td>פרטית</td>\n",
       "      <td>פתח תקוה והסביבה</td>\n",
       "      <td>פתח תקווה</td>\n",
       "      <td>65000.0</td>\n",
       "      <td>4</td>\n",
       "      <td>2023-10-02</td>\n",
       "      <td>2023-10-02</td>\n",
       "      <td>אאודי RS5 ספורטבק 2019 כמעט חדשה בדייטונה גריי...</td>\n",
       "      <td>אפור</td>\n",
       "      <td>7000</td>\n",
       "      <td>&lt;NA&gt;</td>\n",
       "      <td>4</td>\n",
       "    </tr>\n",
       "    <tr>\n",
       "      <th>4</th>\n",
       "      <td>אאודי</td>\n",
       "      <td>2019</td>\n",
       "      <td>RS5</td>\n",
       "      <td>4</td>\n",
       "      <td>אוטומטית</td>\n",
       "      <td>4500</td>\n",
       "      <td>גז</td>\n",
       "      <td>פרטית</td>\n",
       "      <td>פרטית</td>\n",
       "      <td>חולון - בת ים</td>\n",
       "      <td>חולון</td>\n",
       "      <td>65000.0</td>\n",
       "      <td>4</td>\n",
       "      <td>2023-10-02</td>\n",
       "      <td>2023-10-02</td>\n",
       "      <td>נתניהאאודי RS5 ספורטבק 2019 כמעט חדשה בדייטונה...</td>\n",
       "      <td>אפור</td>\n",
       "      <td>7000</td>\n",
       "      <td>&lt;NA&gt;</td>\n",
       "      <td>4</td>\n",
       "    </tr>\n",
       "    <tr>\n",
       "      <th>...</th>\n",
       "      <td>...</td>\n",
       "      <td>...</td>\n",
       "      <td>...</td>\n",
       "      <td>...</td>\n",
       "      <td>...</td>\n",
       "      <td>...</td>\n",
       "      <td>...</td>\n",
       "      <td>...</td>\n",
       "      <td>...</td>\n",
       "      <td>...</td>\n",
       "      <td>...</td>\n",
       "      <td>...</td>\n",
       "      <td>...</td>\n",
       "      <td>...</td>\n",
       "      <td>...</td>\n",
       "      <td>...</td>\n",
       "      <td>...</td>\n",
       "      <td>...</td>\n",
       "      <td>...</td>\n",
       "      <td>...</td>\n",
       "    </tr>\n",
       "    <tr>\n",
       "      <th>104</th>\n",
       "      <td>אאודי</td>\n",
       "      <td>2016</td>\n",
       "      <td>A3</td>\n",
       "      <td>2</td>\n",
       "      <td>אוטומטית</td>\n",
       "      <td>1400</td>\n",
       "      <td>בנזין</td>\n",
       "      <td>פרטית</td>\n",
       "      <td>פרטית</td>\n",
       "      <td>חיפה וחוף הכרמל</td>\n",
       "      <td>טירת כרמל</td>\n",
       "      <td>93000.0</td>\n",
       "      <td>9</td>\n",
       "      <td>2022-01-27</td>\n",
       "      <td>2022-01-27</td>\n",
       "      <td>רכב שמור ללא תיקון צבע כל התוספות חסכוני אמין ...</td>\n",
       "      <td>לבן פנינה</td>\n",
       "      <td>110000</td>\n",
       "      <td>&lt;NA&gt;</td>\n",
       "      <td>590</td>\n",
       "    </tr>\n",
       "    <tr>\n",
       "      <th>105</th>\n",
       "      <td>אאודי</td>\n",
       "      <td>2016</td>\n",
       "      <td>A6</td>\n",
       "      <td>2</td>\n",
       "      <td>טיפטרוניק</td>\n",
       "      <td>2000</td>\n",
       "      <td>בנזין</td>\n",
       "      <td>פרטית</td>\n",
       "      <td>פרטית</td>\n",
       "      <td>NaN</td>\n",
       "      <td>עראבה</td>\n",
       "      <td>165000.0</td>\n",
       "      <td>0</td>\n",
       "      <td>2022-06-12</td>\n",
       "      <td>2022-06-12</td>\n",
       "      <td>אודי a6 לקצרי. מטופלת בקנאות שמורה מאוד. חיצונ...</td>\n",
       "      <td>לבן מטאלי</td>\n",
       "      <td>120000</td>\n",
       "      <td>&lt;NA&gt;</td>\n",
       "      <td>70</td>\n",
       "    </tr>\n",
       "    <tr>\n",
       "      <th>106</th>\n",
       "      <td>אאודי</td>\n",
       "      <td>2009</td>\n",
       "      <td>A4</td>\n",
       "      <td>2</td>\n",
       "      <td>טיפטרוניק</td>\n",
       "      <td>1800</td>\n",
       "      <td>בנזין</td>\n",
       "      <td>NaN</td>\n",
       "      <td>NaN</td>\n",
       "      <td>באר שבע והסביבה</td>\n",
       "      <td>אופקים</td>\n",
       "      <td>25000.0</td>\n",
       "      <td>0</td>\n",
       "      <td>2022-06-10</td>\n",
       "      <td>2022-06-10</td>\n",
       "      <td>אאודי שמורה מאוד מצב חדש \\r\\nמתחייב בבדיקה מלא...</td>\n",
       "      <td>NaN</td>\n",
       "      <td>200000</td>\n",
       "      <td>&lt;NA&gt;</td>\n",
       "      <td>171</td>\n",
       "    </tr>\n",
       "    <tr>\n",
       "      <th>107</th>\n",
       "      <td>אאודי</td>\n",
       "      <td>2015</td>\n",
       "      <td>A6</td>\n",
       "      <td>3</td>\n",
       "      <td>אוטומטית</td>\n",
       "      <td>3000</td>\n",
       "      <td>בנזין</td>\n",
       "      <td>פרטית</td>\n",
       "      <td>פרטית</td>\n",
       "      <td>נתניה והסביבה</td>\n",
       "      <td>נתניה</td>\n",
       "      <td>155000.0</td>\n",
       "      <td>0</td>\n",
       "      <td>2022-05-01</td>\n",
       "      <td>2022-05-01</td>\n",
       "      <td>Alex</td>\n",
       "      <td>אדום</td>\n",
       "      <td>90000</td>\n",
       "      <td>&lt;NA&gt;</td>\n",
       "      <td>89</td>\n",
       "    </tr>\n",
       "    <tr>\n",
       "      <th>108</th>\n",
       "      <td>אאודי</td>\n",
       "      <td>2015</td>\n",
       "      <td>A3</td>\n",
       "      <td>2</td>\n",
       "      <td>טיפטרוניק</td>\n",
       "      <td>1400</td>\n",
       "      <td>בנזין</td>\n",
       "      <td>NaN</td>\n",
       "      <td>NaN</td>\n",
       "      <td>באר שבע והסביבה</td>\n",
       "      <td>באר שבע</td>\n",
       "      <td>82000.0</td>\n",
       "      <td>0</td>\n",
       "      <td>2022-04-20</td>\n",
       "      <td>2022-04-20</td>\n",
       "      <td>רכב מאוד שמור מטופל בזמן. צמיגי גודאייר, כיסאו...</td>\n",
       "      <td>NaN</td>\n",
       "      <td>72000</td>\n",
       "      <td>&lt;NA&gt;</td>\n",
       "      <td>615</td>\n",
       "    </tr>\n",
       "  </tbody>\n",
       "</table>\n",
       "<p>109 rows × 20 columns</p>\n",
       "</div>"
      ],
      "text/plain": [
       "    manufactor  Year model  Hand       Gear  capacity_Engine Engine_type  \\\n",
       "0        אאודי  2013    A5     3   אוטומטית             1800       בנזין   \n",
       "1        אאודי  2016    A1     2   אוטומטית             1000       בנזין   \n",
       "2        אאודי  2021    A1     1   אוטומטית             1000       בנזין   \n",
       "3        אאודי  2019   RS5     4   אוטומטית             4500          גז   \n",
       "4        אאודי  2019   RS5     4   אוטומטית             4500          גז   \n",
       "..         ...   ...   ...   ...        ...              ...         ...   \n",
       "104      אאודי  2016    A3     2   אוטומטית             1400       בנזין   \n",
       "105      אאודי  2016    A6     2  טיפטרוניק             2000       בנזין   \n",
       "106      אאודי  2009    A4     2  טיפטרוניק             1800       בנזין   \n",
       "107      אאודי  2015    A6     3   אוטומטית             3000       בנזין   \n",
       "108      אאודי  2015    A3     2  טיפטרוניק             1400       בנזין   \n",
       "\n",
       "    Prev_ownership Curr_ownership              Area       City     Price  \\\n",
       "0            פרטית          פרטית   ירושלים והסביבה    ירושלים   68000.0   \n",
       "1           ליסינג          פרטית               NaN    בית ג'ן   55000.0   \n",
       "2            פרטית          פרטית   ירושלים והסביבה    ירושלים  122000.0   \n",
       "3            פרטית          פרטית  פתח תקוה והסביבה  פתח תקווה   65000.0   \n",
       "4            פרטית          פרטית     חולון - בת ים      חולון   65000.0   \n",
       "..             ...            ...               ...        ...       ...   \n",
       "104          פרטית          פרטית   חיפה וחוף הכרמל  טירת כרמל   93000.0   \n",
       "105          פרטית          פרטית               NaN      עראבה  165000.0   \n",
       "106            NaN            NaN   באר שבע והסביבה     אופקים   25000.0   \n",
       "107          פרטית          פרטית     נתניה והסביבה      נתניה  155000.0   \n",
       "108            NaN            NaN   באר שבע והסביבה    באר שבע   82000.0   \n",
       "\n",
       "     Pic_num   Cre_date Repub_date  \\\n",
       "0          5 2024-03-17 2024-03-31   \n",
       "1          3 2023-11-25 2023-11-24   \n",
       "2          9 2023-11-11 2023-11-11   \n",
       "3          4 2023-10-02 2023-10-02   \n",
       "4          4 2023-10-02 2023-10-02   \n",
       "..       ...        ...        ...   \n",
       "104        9 2022-01-27 2022-01-27   \n",
       "105        0 2022-06-12 2022-06-12   \n",
       "106        0 2022-06-10 2022-06-10   \n",
       "107        0 2022-05-01 2022-05-01   \n",
       "108        0 2022-04-20 2022-04-20   \n",
       "\n",
       "                                           Description      Color      Km  \\\n",
       "0    ‎!!קילומטר נמוך !! רכב במצב תצוגה טיפול גדול ח...       שחור  119000   \n",
       "1    רכב שמור מטופל בזמן יש עליו כל מיני תוספות מי ...       שחור  135000   \n",
       "2    רכב אאודי A1 דגם סטייל קומפורט \\nאחרי טיפול של...       שחור    <NA>   \n",
       "3    אאודי RS5 ספורטבק 2019 כמעט חדשה בדייטונה גריי...       אפור    7000   \n",
       "4    נתניהאאודי RS5 ספורטבק 2019 כמעט חדשה בדייטונה...       אפור    7000   \n",
       "..                                                 ...        ...     ...   \n",
       "104  רכב שמור ללא תיקון צבע כל התוספות חסכוני אמין ...  לבן פנינה  110000   \n",
       "105  אודי a6 לקצרי. מטופלת בקנאות שמורה מאוד. חיצונ...  לבן מטאלי  120000   \n",
       "106  אאודי שמורה מאוד מצב חדש \\r\\nמתחייב בבדיקה מלא...        NaN  200000   \n",
       "107                                               Alex       אדום   90000   \n",
       "108  רכב מאוד שמור מטופל בזמן. צמיגי גודאייר, כיסאו...        NaN   72000   \n",
       "\n",
       "     Test  Supply_score  \n",
       "0    <NA>            29  \n",
       "1    <NA>           344  \n",
       "2    <NA>           254  \n",
       "3    <NA>             4  \n",
       "4    <NA>             4  \n",
       "..    ...           ...  \n",
       "104  <NA>           590  \n",
       "105  <NA>            70  \n",
       "106  <NA>           171  \n",
       "107  <NA>            89  \n",
       "108  <NA>           615  \n",
       "\n",
       "[109 rows x 20 columns]"
      ]
     },
     "execution_count": 26,
     "metadata": {},
     "output_type": "execute_result"
    }
   ],
   "source": [
    "new_data"
   ]
  },
  {
   "cell_type": "markdown",
   "id": "6336e514",
   "metadata": {},
   "source": [
    "---"
   ]
  },
  {
   "cell_type": "markdown",
   "id": "9a94c6e6",
   "metadata": {},
   "source": [
    "### Write to csv"
   ]
  },
  {
   "cell_type": "code",
   "execution_count": 27,
   "id": "f11f8b3a",
   "metadata": {},
   "outputs": [
    {
     "data": {
      "application/javascript": [
       "\n",
       "        if (window._pyforest_update_imports_cell) { window._pyforest_update_imports_cell('import os'); }\n",
       "    "
      ],
      "text/plain": [
       "<IPython.core.display.Javascript object>"
      ]
     },
     "metadata": {},
     "output_type": "display_data"
    }
   ],
   "source": [
    "file_path = r\"C:\\Users\\elon2\\OneDrive\\Desktop\"\n",
    "csv_path = os.path.join(file_path, \"Audis.csv\")\n",
    "new_data.to_csv(csv_path, index=False, encoding='utf-8-sig')"
   ]
  }
 ],
 "metadata": {
  "kernelspec": {
   "display_name": "Python 3 (ipykernel)",
   "language": "python",
   "name": "python3"
  },
  "language_info": {
   "codemirror_mode": {
    "name": "ipython",
    "version": 3
   },
   "file_extension": ".py",
   "mimetype": "text/x-python",
   "name": "python",
   "nbconvert_exporter": "python",
   "pygments_lexer": "ipython3",
   "version": "3.9.12"
  }
 },
 "nbformat": 4,
 "nbformat_minor": 5
}
